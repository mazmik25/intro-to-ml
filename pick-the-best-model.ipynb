{
 "cells": [
  {
   "cell_type": "code",
   "execution_count": 1,
   "id": "0c33de7c",
   "metadata": {},
   "outputs": [],
   "source": [
    "# necessary imports\n",
    "import numpy as np\n",
    "import pandas as pd\n",
    "import seaborn as sns\n",
    "\n",
    "import matplotlib.pyplot as plt\n",
    "\n",
    "%matplotlib inline "
   ]
  },
  {
   "cell_type": "code",
   "execution_count": 2,
   "id": "72f090e0",
   "metadata": {},
   "outputs": [],
   "source": [
    "from sklearn import (datasets,\n",
    "                     metrics,\n",
    "                     model_selection as skms,\n",
    "                     naive_bayes,\n",
    "                     linear_model,\n",
    "                     neighbors)\n",
    "\n",
    "# dataset for classification\n",
    "iris = datasets.load_iris()\n",
    "\n",
    "# train-test split\n",
    "(iris_train_ftrs, iris_test_ftrs, \n",
    " iris_train_tgt, iris_test_tgt) = skms.train_test_split(iris.data,\n",
    "                                                        iris.target, \n",
    "                                                        test_size=.90,\n",
    "                                                        random_state=42) \n",
    "\n",
    "# dataset for regression\n",
    "diabetes = datasets.load_diabetes()\n",
    "\n",
    "# train-test split\n",
    "tts =  skms.train_test_split(diabetes.data,\n",
    "                             diabetes.target, \n",
    "                             test_size=.25)\n",
    "(diabetes_train, diabetes_test, \n",
    " diabetes_train_tgt, diabetes_test_tgt) = tts"
   ]
  },
  {
   "cell_type": "code",
   "execution_count": 13,
   "id": "c830af95",
   "metadata": {},
   "outputs": [],
   "source": [
    "import memory_profiler\n",
    "\n",
    "def msr_mem(go, args):\n",
    "    base = memory_profiler.memory_usage()\n",
    "    mu = memory_profiler.memory_usage((go, args),\n",
    "                                       max_usage=True)\n",
    "    print(\"{:<3}: ~{:.4f} MiB\".format(go.__name__, mu-base))\n",
    "    \n",
    "def split_data(dataset):\n",
    "    split = skms.train_test_split(dataset.data,\n",
    "                                  dataset.target,\n",
    "                                  test_size=.25)\n",
    "    return split[:-1] # don't need test tgt"
   ]
  },
  {
   "cell_type": "markdown",
   "id": "491cebb4",
   "metadata": {},
   "source": [
    "# Classification"
   ]
  },
  {
   "cell_type": "code",
   "execution_count": 4,
   "id": "66f1dd17",
   "metadata": {},
   "outputs": [
    {
     "name": "stdout",
     "output_type": "stream",
     "text": [
      "3-NN: 0.96\n",
      "5-NN: 0.61\n",
      "  NB: 0.81\n"
     ]
    }
   ],
   "source": [
    "# define some models\n",
    "models = {'3-NN': neighbors.KNeighborsClassifier(n_neighbors=3),\n",
    "          '5-NN': neighbors.KNeighborsClassifier(n_neighbors=5),\n",
    "          'NB'  : naive_bayes.GaussianNB()}\n",
    "\n",
    "# in turn, fit-predict with those models\n",
    "for name, model in models.items():\n",
    "    fit = model.fit(iris_train_ftrs, \n",
    "                    iris_train_tgt)\n",
    "    predictions = fit.predict(iris_test_ftrs)\n",
    "    \n",
    "    score = metrics.accuracy_score(iris_test_tgt, predictions)\n",
    "    print(\"{:>4s}: {:0.2f}\".format(name,score))"
   ]
  },
  {
   "cell_type": "code",
   "execution_count": 5,
   "id": "0ef65b52",
   "metadata": {},
   "outputs": [
    {
     "name": "stdout",
     "output_type": "stream",
     "text": [
      "3.96 ms ± 0 ns per loop (mean ± std. dev. of 1 run, 100 loops each)\n"
     ]
    }
   ],
   "source": [
    "%%timeit -r1\n",
    "\n",
    "knn   = neighbors.KNeighborsClassifier(n_neighbors=3)\n",
    "fit   = knn.fit(iris_train_ftrs, iris_train_tgt)\n",
    "preds = fit.predict(iris_test_ftrs)\n",
    "\n",
    "metrics.accuracy_score(iris_test_tgt, preds)"
   ]
  },
  {
   "cell_type": "code",
   "execution_count": 6,
   "id": "cd94ffaa",
   "metadata": {},
   "outputs": [
    {
     "name": "stdout",
     "output_type": "stream",
     "text": [
      "134 µs ± 0 ns per loop (mean ± std. dev. of 1 run, 10000 loops each)\n",
      "3.52 ms ± 0 ns per loop (mean ± std. dev. of 1 run, 100 loops each)\n"
     ]
    }
   ],
   "source": [
    "nb = naive_bayes.GaussianNB()\n",
    "fit = nb.fit(iris_train_ftrs, iris_train_tgt)\n",
    "%timeit -r1 preds = fit.predict(iris_test_ftrs)\n",
    "\n",
    "knn   = neighbors.KNeighborsClassifier(n_neighbors=3)\n",
    "fit = knn.fit(iris_train_ftrs, iris_train_tgt)\n",
    "%timeit -r1 preds = fit.predict(iris_test_ftrs)"
   ]
  },
  {
   "cell_type": "code",
   "execution_count": 7,
   "id": "fadeac47",
   "metadata": {},
   "outputs": [],
   "source": [
    "def nb_go(train_ftrs, test_ftrs, train_tgt):\n",
    "    nb    = naive_bayes.GaussianNB()\n",
    "    fit   = nb.fit(train_ftrs, train_tgt)\n",
    "    preds = fit.predict(test_ftrs)\n",
    "\n",
    "def knn3_go(train_ftrs, test_ftrs, train_tgt):\n",
    "    nb    = neighbors.KNeighborsClassifier(n_neighbors=3)\n",
    "    fit   = nb.fit(train_ftrs, train_tgt)\n",
    "    preds = fit.predict(test_ftrs)\n",
    "\n",
    "def knn5_go(train_ftrs, test_ftrs, train_tgt):\n",
    "    nb    = neighbors.KNeighborsClassifier(n_neighbors=5)\n",
    "    fit   = nb.fit(train_ftrs, train_tgt)\n",
    "    preds = fit.predict(test_ftrs)"
   ]
  },
  {
   "cell_type": "code",
   "execution_count": 14,
   "id": "47e50872",
   "metadata": {},
   "outputs": [
    {
     "ename": "TypeError",
     "evalue": "unsupported operand type(s) for -: 'float' and 'list'",
     "output_type": "error",
     "traceback": [
      "\u001b[1;31m---------------------------------------------------------------------------\u001b[0m",
      "\u001b[1;31mTypeError\u001b[0m                                 Traceback (most recent call last)",
      "\u001b[1;32m<ipython-input-14-d3bdde3e6358>\u001b[0m in \u001b[0;36m<module>\u001b[1;34m\u001b[0m\n\u001b[0;32m      1\u001b[0m \u001b[0msd\u001b[0m \u001b[1;33m=\u001b[0m \u001b[0msplit_data\u001b[0m\u001b[1;33m(\u001b[0m\u001b[0mdatasets\u001b[0m\u001b[1;33m.\u001b[0m\u001b[0mload_iris\u001b[0m\u001b[1;33m(\u001b[0m\u001b[1;33m)\u001b[0m\u001b[1;33m)\u001b[0m\u001b[1;33m\u001b[0m\u001b[1;33m\u001b[0m\u001b[0m\n\u001b[1;32m----> 2\u001b[1;33m \u001b[0mmsr_mem\u001b[0m\u001b[1;33m(\u001b[0m\u001b[0mnb_go\u001b[0m\u001b[1;33m,\u001b[0m \u001b[0msd\u001b[0m\u001b[1;33m)\u001b[0m\u001b[1;33m\u001b[0m\u001b[1;33m\u001b[0m\u001b[0m\n\u001b[0m\u001b[0;32m      3\u001b[0m \u001b[0mmsr_mem\u001b[0m\u001b[1;33m(\u001b[0m\u001b[0mknn3_go\u001b[0m\u001b[1;33m,\u001b[0m \u001b[0msd\u001b[0m\u001b[1;33m)\u001b[0m\u001b[1;33m\u001b[0m\u001b[1;33m\u001b[0m\u001b[0m\n\u001b[0;32m      4\u001b[0m \u001b[0mmsr_mem\u001b[0m\u001b[1;33m(\u001b[0m\u001b[0mknn5_go\u001b[0m\u001b[1;33m,\u001b[0m \u001b[0msd\u001b[0m\u001b[1;33m)\u001b[0m\u001b[1;33m\u001b[0m\u001b[1;33m\u001b[0m\u001b[0m\n",
      "\u001b[1;32m<ipython-input-13-1b2262a89ea4>\u001b[0m in \u001b[0;36mmsr_mem\u001b[1;34m(go, args)\u001b[0m\n\u001b[0;32m      5\u001b[0m     mu = memory_profiler.memory_usage((go, args),\n\u001b[0;32m      6\u001b[0m                                        max_usage=True)\n\u001b[1;32m----> 7\u001b[1;33m     \u001b[0mprint\u001b[0m\u001b[1;33m(\u001b[0m\u001b[1;34m\"{:<3}: ~{:.4f} MiB\"\u001b[0m\u001b[1;33m.\u001b[0m\u001b[0mformat\u001b[0m\u001b[1;33m(\u001b[0m\u001b[0mgo\u001b[0m\u001b[1;33m.\u001b[0m\u001b[0m__name__\u001b[0m\u001b[1;33m,\u001b[0m \u001b[0mmu\u001b[0m\u001b[1;33m-\u001b[0m\u001b[0mbase\u001b[0m\u001b[1;33m)\u001b[0m\u001b[1;33m)\u001b[0m\u001b[1;33m\u001b[0m\u001b[1;33m\u001b[0m\u001b[0m\n\u001b[0m\u001b[0;32m      8\u001b[0m \u001b[1;33m\u001b[0m\u001b[0m\n\u001b[0;32m      9\u001b[0m \u001b[1;32mdef\u001b[0m \u001b[0msplit_data\u001b[0m\u001b[1;33m(\u001b[0m\u001b[0mdataset\u001b[0m\u001b[1;33m)\u001b[0m\u001b[1;33m:\u001b[0m\u001b[1;33m\u001b[0m\u001b[1;33m\u001b[0m\u001b[0m\n",
      "\u001b[1;31mTypeError\u001b[0m: unsupported operand type(s) for -: 'float' and 'list'"
     ]
    }
   ],
   "source": [
    "sd = split_data(datasets.load_iris())\n",
    "msr_mem(nb_go, sd)\n",
    "msr_mem(knn3_go, sd)\n",
    "msr_mem(knn5_go, sd)"
   ]
  },
  {
   "cell_type": "markdown",
   "id": "8593b6a6",
   "metadata": {},
   "source": [
    "# Regression"
   ]
  },
  {
   "cell_type": "code",
   "execution_count": 9,
   "id": "4210fb53",
   "metadata": {},
   "outputs": [
    {
     "name": "stdout",
     "output_type": "stream",
     "text": [
      "  3-NN : 64.05\n",
      "  5-NN : 63.78\n",
      " 10-NN : 60.10\n",
      " 20-NN : 58.37\n",
      "linreg : 57.94\n"
     ]
    }
   ],
   "source": [
    "# stand alone code\n",
    "from sklearn import (datasets, \n",
    "                     linear_model, \n",
    "                     model_selection as skms,\n",
    "                     metrics,\n",
    "                     neighbors)\n",
    "\n",
    "# dataset\n",
    "diabetes = datasets.load_diabetes()\n",
    "\n",
    "# tts\n",
    "tts =  skms.train_test_split(diabetes.data,\n",
    "                             diabetes.target, \n",
    "                             test_size=.25)\n",
    "(diabetes_train, diabetes_test, \n",
    " diabetes_train_tgt, diabetes_test_tgt) = tts\n",
    "\n",
    "# define some models\n",
    "models = {'3-NN': neighbors.KNeighborsRegressor(n_neighbors=3),\n",
    "          '5-NN': neighbors.KNeighborsRegressor(n_neighbors=5),\n",
    "          '10-NN': neighbors.KNeighborsRegressor(n_neighbors=10),\n",
    "          '20-NN': neighbors.KNeighborsRegressor(n_neighbors=20),\n",
    "          'linreg' : linear_model.LinearRegression()}\n",
    "\n",
    "for name, model in models.items():\n",
    "    fit   = model.fit(diabetes_train, diabetes_train_tgt)\n",
    "    preds = fit.predict(diabetes_test)\n",
    "    score = np.sqrt(metrics.mean_squared_error(diabetes_test_tgt, \n",
    "                                               preds))\n",
    "    print(\"{:>6s} : {:0.2f}\".format(name,score))"
   ]
  },
  {
   "cell_type": "code",
   "execution_count": 10,
   "id": "9d33130e",
   "metadata": {},
   "outputs": [],
   "source": [
    "def knn_go(train_ftrs, test_ftrs, train_tgt):\n",
    "    knn = neighbors.KNeighborsRegressor(n_neighbors=3)\n",
    "    fit   = knn.fit(train_ftrs, train_tgt)\n",
    "    preds = fit.predict(test_ftrs)\n",
    "\n",
    "def lr_go(train_ftrs, test_ftrs, train_tgt):\n",
    "    linreg = linear_model.LinearRegression()\n",
    "    fit   = linreg.fit(train_ftrs, train_tgt)\n",
    "    preds = fit.predict(test_ftrs)"
   ]
  },
  {
   "cell_type": "code",
   "execution_count": null,
   "id": "8e3722d8",
   "metadata": {},
   "outputs": [],
   "source": []
  }
 ],
 "metadata": {
  "kernelspec": {
   "display_name": "Python 3",
   "language": "python",
   "name": "python3"
  },
  "language_info": {
   "codemirror_mode": {
    "name": "ipython",
    "version": 3
   },
   "file_extension": ".py",
   "mimetype": "text/x-python",
   "name": "python",
   "nbconvert_exporter": "python",
   "pygments_lexer": "ipython3",
   "version": "3.9.6"
  }
 },
 "nbformat": 4,
 "nbformat_minor": 5
}
